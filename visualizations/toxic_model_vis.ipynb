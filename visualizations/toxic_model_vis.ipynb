{
 "cells": [
  {
   "cell_type": "code",
   "execution_count": 1,
   "id": "790d6fd1-b36e-44ff-ad8f-eb808172bf2d",
   "metadata": {},
   "outputs": [
    {
     "name": "stderr",
     "output_type": "stream",
     "text": [
      "2021-08-17 17:39:13.324626: W tensorflow/stream_executor/platform/default/dso_loader.cc:64] Could not load dynamic library 'libcudart.so.11.0'; dlerror: libcudart.so.11.0: cannot open shared object file: No such file or directory\n",
      "2021-08-17 17:39:13.324687: I tensorflow/stream_executor/cuda/cudart_stub.cc:29] Ignore above cudart dlerror if you do not have a GPU set up on your machine.\n"
     ]
    }
   ],
   "source": [
    "from keras import models\n",
    "from keras_visualizer import visualizer"
   ]
  },
  {
   "cell_type": "code",
   "execution_count": null,
   "id": "42b99131-e152-4c99-bae7-58b7c13a3dd5",
   "metadata": {},
   "outputs": [],
   "source": [
    "model_location = \"/home/jason/toxic_model/toxic_keras_ensemble/\"\n",
    "\n",
    "weighted_model = models.load_model(model_location + \"weighted/\", compile=False)\n",
    "weighted_model.compile()\n",
    "unweighted_model = models.load_model(model_location + \"unweighted/\", compile=False)\n",
    "unweighted_model.compile()"
   ]
  },
  {
   "cell_type": "code",
   "execution_count": 2,
   "id": "6cd8f06e-511c-48d7-8388-6263b2cde5a2",
   "metadata": {},
   "outputs": [
    {
     "name": "stderr",
     "output_type": "stream",
     "text": [
      "2021-08-17 17:39:34.000792: W tensorflow/stream_executor/platform/default/dso_loader.cc:64] Could not load dynamic library 'libcuda.so.1'; dlerror: libcuda.so.1: cannot open shared object file: No such file or directory\n",
      "2021-08-17 17:39:34.000844: W tensorflow/stream_executor/cuda/cuda_driver.cc:326] failed call to cuInit: UNKNOWN ERROR (303)\n",
      "2021-08-17 17:39:34.001433: I tensorflow/stream_executor/cuda/cuda_diagnostics.cc:156] kernel driver does not appear to be running on this host (ubuntu-s-4vcpu-8gb-nyc1-01): /proc/driver/nvidia/version does not exist\n",
      "2021-08-17 17:39:34.015808: I tensorflow/core/platform/cpu_feature_guard.cc:142] This TensorFlow binary is optimized with oneAPI Deep Neural Network Library (oneDNN) to use the following CPU instructions in performance-critical operations:  AVX2 AVX512F FMA\n",
      "To enable them in other operations, rebuild TensorFlow with the appropriate compiler flags.\n",
      "2021-08-17 17:39:37.895765: W tensorflow/core/common_runtime/graph_constructor.cc:809] Node 'cond/while' has 13 outputs but the _output_shapes attribute specifies shapes for 46 outputs. Output shapes may be inaccurate.\n",
      "2021-08-17 17:39:39.113669: W tensorflow/core/common_runtime/graph_constructor.cc:809] Node 'cond/while' has 13 outputs but the _output_shapes attribute specifies shapes for 46 outputs. Output shapes may be inaccurate.\n",
      "2021-08-17 17:39:39.162347: W tensorflow/core/common_runtime/graph_constructor.cc:809] Node 'cond' has 5 outputs but the _output_shapes attribute specifies shapes for 46 outputs. Output shapes may be inaccurate.\n",
      "2021-08-17 17:39:39.967767: W tensorflow/core/common_runtime/graph_constructor.cc:809] Node 'cond' has 5 outputs but the _output_shapes attribute specifies shapes for 46 outputs. Output shapes may be inaccurate.\n",
      "2021-08-17 17:39:40.698402: W tensorflow/core/common_runtime/graph_constructor.cc:809] Node 'cond/while' has 13 outputs but the _output_shapes attribute specifies shapes for 46 outputs. Output shapes may be inaccurate.\n",
      "2021-08-17 17:39:40.748924: W tensorflow/core/common_runtime/graph_constructor.cc:809] Node 'cond' has 5 outputs but the _output_shapes attribute specifies shapes for 46 outputs. Output shapes may be inaccurate.\n",
      "2021-08-17 17:39:42.747148: W tensorflow/core/common_runtime/graph_constructor.cc:809] Node 'cond/while' has 13 outputs but the _output_shapes attribute specifies shapes for 46 outputs. Output shapes may be inaccurate.\n",
      "2021-08-17 17:39:42.797915: W tensorflow/core/common_runtime/graph_constructor.cc:809] Node 'cond' has 5 outputs but the _output_shapes attribute specifies shapes for 46 outputs. Output shapes may be inaccurate.\n",
      "2021-08-17 17:39:43.039865: W tensorflow/core/common_runtime/graph_constructor.cc:809] Node 'cond/while' has 13 outputs but the _output_shapes attribute specifies shapes for 46 outputs. Output shapes may be inaccurate.\n",
      "2021-08-17 17:39:43.094795: W tensorflow/core/common_runtime/graph_constructor.cc:809] Node 'cond' has 5 outputs but the _output_shapes attribute specifies shapes for 46 outputs. Output shapes may be inaccurate.\n",
      "2021-08-17 17:39:43.332254: W tensorflow/core/common_runtime/graph_constructor.cc:809] Node 'cond/while' has 13 outputs but the _output_shapes attribute specifies shapes for 46 outputs. Output shapes may be inaccurate.\n",
      "2021-08-17 17:39:43.395714: W tensorflow/core/common_runtime/graph_constructor.cc:809] Node 'cond' has 5 outputs but the _output_shapes attribute specifies shapes for 46 outputs. Output shapes may be inaccurate.\n",
      "2021-08-17 17:39:44.118389: W tensorflow/core/common_runtime/graph_constructor.cc:809] Node 'cond/while' has 13 outputs but the _output_shapes attribute specifies shapes for 46 outputs. Output shapes may be inaccurate.\n",
      "2021-08-17 17:39:44.166969: W tensorflow/core/common_runtime/graph_constructor.cc:809] Node 'cond' has 5 outputs but the _output_shapes attribute specifies shapes for 46 outputs. Output shapes may be inaccurate.\n",
      "2021-08-17 17:39:46.412812: I tensorflow/core/platform/profile_utils/cpu_utils.cc:114] CPU Frequency: 2494135000 Hz\n"
     ]
    },
    {
     "name": "stdout",
     "output_type": "stream",
     "text": [
      "Model Imported. Visualize by running: tensorboard --logdir=/tmp/toxic_keras_unweighted\n"
     ]
    }
   ],
   "source": [
    "from tensorflow.python.summary import summary\n",
    "from tensorflow.python.client import session\n",
    "from tensorflow.python.framework import ops\n",
    "from tensorflow import saved_model\n",
    "\n",
    "model_location = \"/home/jason/toxic_model/toxic_keras_ensemble/\"\n",
    "with session.Session(graph=ops.Graph()) as sess:\n",
    "    # Restore model from the saved_model file, that is exported by TensorFlow estimator.\n",
    "    unweighted_model = models.load_model(model_location + \"unweighted/\", compile=False)\n",
    "#     unweighted_model.compile()\n",
    "    pb_visual_writer = summary.FileWriter(\"/tmp/toxic_keras_unweighted\")\n",
    "    pb_visual_writer.add_graph(sess.graph)\n",
    "    print(\"Model Imported. Visualize by running: \"\n",
    "          \"tensorboard --logdir={}\".format(\"/tmp/toxic_keras_unweighted\"))"
   ]
  },
  {
   "cell_type": "code",
   "execution_count": 3,
   "id": "5a83b58d-9478-4a61-ab32-fafb414fa504",
   "metadata": {},
   "outputs": [],
   "source": [
    "%load_ext tensorboard\n",
    "# %reload_ext tensorboard"
   ]
  },
  {
   "cell_type": "code",
   "execution_count": 4,
   "id": "475af44d-7cec-4cb3-9920-0ae1dcbdddc6",
   "metadata": {},
   "outputs": [],
   "source": [
    "import os\n",
    "os.environ['TENSORBOARD_BINARY'] = '/home/jason/.local/bin/tensorboard'"
   ]
  },
  {
   "cell_type": "code",
   "execution_count": 5,
   "id": "c27d6073-6b70-4c4b-ac29-bdf8906cf285",
   "metadata": {},
   "outputs": [
    {
     "data": {
      "text/html": [
       "\n",
       "      <iframe id=\"tensorboard-frame-a976086a57834aa6\" width=\"100%\" height=\"800\" frameborder=\"0\">\n",
       "      </iframe>\n",
       "      <script>\n",
       "        (function() {\n",
       "          const frame = document.getElementById(\"tensorboard-frame-a976086a57834aa6\");\n",
       "          const url = new URL(\"/\", window.location);\n",
       "          const port = 6007;\n",
       "          if (port) {\n",
       "            url.port = port;\n",
       "          }\n",
       "          frame.src = url;\n",
       "        })();\n",
       "      </script>\n",
       "    "
      ],
      "text/plain": [
       "<IPython.core.display.HTML object>"
      ]
     },
     "metadata": {},
     "output_type": "display_data"
    }
   ],
   "source": [
    "%tensorboard  --logdir=/tmp/toxic_keras_unweighted"
   ]
  }
 ],
 "metadata": {
  "kernelspec": {
   "display_name": "Python 3 (ipykernel)",
   "language": "python",
   "name": "python3"
  },
  "language_info": {
   "codemirror_mode": {
    "name": "ipython",
    "version": 3
   },
   "file_extension": ".py",
   "mimetype": "text/x-python",
   "name": "python",
   "nbconvert_exporter": "python",
   "pygments_lexer": "ipython3",
   "version": "3.8.10"
  }
 },
 "nbformat": 4,
 "nbformat_minor": 5
}
